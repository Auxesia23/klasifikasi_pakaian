{
 "cells": [
  {
   "cell_type": "code",
   "execution_count": 1,
   "id": "031dfd69",
   "metadata": {},
   "outputs": [],
   "source": [
    "#Import\n",
    "\n",
    "import os\n",
    "import cv2\n",
    "\n",
    "import numpy as np\n",
    "\n",
    "from skimage import color\n",
    "from skimage.feature import hog\n",
    "\n",
    "from skimage.feature import local_binary_pattern\n",
    "from sklearn.model_selection import train_test_split\n",
    "from sklearn.svm import SVC\n",
    "from sklearn.metrics import classification_report, accuracy_score\n",
    "from sklearn.preprocessing import LabelEncoder\n",
    "\n",
    "import joblib\n"
   ]
  },
  {
   "cell_type": "code",
   "execution_count": 2,
   "id": "611eec59",
   "metadata": {},
   "outputs": [],
   "source": [
    "# Load Images\n",
    "\n",
    "def load_images_and_labels(dataset_path, image_size=(128, 128)):\n",
    "    images = []\n",
    "    labels = []\n",
    "\n",
    "    for label_folder in os.listdir(dataset_path):\n",
    "        label_path = os.path.join(dataset_path, label_folder)\n",
    "\n",
    "        for file_name in os.listdir(label_path):\n",
    "            file_path = os.path.join(label_path, file_name)\n",
    "            image = cv2.imread(file_path)\n",
    "            image = cv2.resize(image, image_size)\n",
    "            images.append(image)\n",
    "            labels.append(label_folder)\n",
    "\n",
    "    return images, labels\n",
    "\n",
    "images, labels = load_images_and_labels(\"gambar\")\n"
   ]
  },
  {
   "cell_type": "code",
   "execution_count": 3,
   "id": "c5081ec5",
   "metadata": {},
   "outputs": [],
   "source": [
    "# Ekstraksi fitur HOG\n",
    "\n",
    "def extract_hog_features(images):\n",
    "    features = []\n",
    "\n",
    "    for image in images:\n",
    "        gray = color.rgb2gray(image)\n",
    "        hog_feature, _ = hog(\n",
    "            gray,\n",
    "            orientations=9,\n",
    "            pixels_per_cell=(8, 8),\n",
    "            cells_per_block=(2, 2),\n",
    "            block_norm='L2-Hys',\n",
    "            visualize=True\n",
    "        )\n",
    "        features.append(hog_feature)\n",
    "\n",
    "    return np.array(features)\n",
    "\n",
    "hog_features = extract_hog_features(images)\n"
   ]
  },
  {
   "cell_type": "code",
   "execution_count": 4,
   "id": "764a52b1",
   "metadata": {},
   "outputs": [],
   "source": [
    "# Extraksi Fitur Color Histogram\n",
    "\n",
    "def extract_color_histogram_features(images, bins=256):\n",
    "    features = []\n",
    "\n",
    "    for image in images:\n",
    "        chans = cv2.split(image) \n",
    "        hist_features = []\n",
    "\n",
    "        for chan in chans:\n",
    "            hist = cv2.calcHist([chan], [0], None, [bins], [0, 256])\n",
    "            hist = cv2.normalize(hist, hist).flatten()\n",
    "            hist_features.extend(hist)\n",
    "\n",
    "        features.append(hist_features)\n",
    "\n",
    "    return np.array(features)\n",
    "\n",
    "color_histogram_features = extract_color_histogram_features(images)\n"
   ]
  },
  {
   "cell_type": "code",
   "execution_count": 5,
   "id": "1e3d635d",
   "metadata": {},
   "outputs": [],
   "source": [
    "# Ekstraksi fitur Tekstur(LBP)\n",
    "\n",
    "def extract_lbp_features(images):\n",
    "    features = []\n",
    "\n",
    "    for image in images:\n",
    "        gray = color.rgb2gray(image)\n",
    "        gray_uint8 = (gray * 255).astype(\"uint8\")\n",
    "        lbp = local_binary_pattern(gray_uint8, P=8, R=1, method='uniform')\n",
    "\n",
    "        (hist, _) = np.histogram(lbp.ravel(), bins=np.arange(0, 10), range=(0, 9))\n",
    "        hist = hist.astype(\"float\")\n",
    "        hist /= (hist.sum() + 1e-6)  # normalisasi\n",
    "\n",
    "        features.append(hist)\n",
    "\n",
    "    return np.array(features)\n",
    "\n",
    "lbp_features = extract_lbp_features(images)\n"
   ]
  },
  {
   "cell_type": "code",
   "execution_count": 6,
   "id": "ed950a51",
   "metadata": {},
   "outputs": [],
   "source": [
    "# Gabungkan Fitur\n",
    "\n",
    "X = np.concatenate([hog_features, color_histogram_features, lbp_features], axis=1)"
   ]
  },
  {
   "cell_type": "code",
   "execution_count": 7,
   "id": "0d39f794",
   "metadata": {},
   "outputs": [],
   "source": [
    "#Encode Label\n",
    "\n",
    "le = LabelEncoder()\n",
    "y = le.fit_transform(labels)"
   ]
  },
  {
   "cell_type": "code",
   "execution_count": 8,
   "id": "d9c32cfc",
   "metadata": {},
   "outputs": [],
   "source": [
    "# Split data train/test\n",
    "X_train, X_test, y_train, y_test = train_test_split(\n",
    "    X, y, test_size=0.2, random_state=42)"
   ]
  },
  {
   "cell_type": "code",
   "execution_count": 9,
   "id": "ab23514b",
   "metadata": {},
   "outputs": [
    {
     "name": "stdout",
     "output_type": "stream",
     "text": [
      "Accuracy: 0.8333333333333334\n",
      "Classification Report:\n",
      "                 precision    recall  f1-score   support\n",
      "\n",
      "Celana_Panjang       0.83      1.00      0.91        10\n",
      "          Gaun       0.73      0.89      0.80         9\n",
      "         Jaket       1.00      0.64      0.78        11\n",
      "\n",
      "      accuracy                           0.83        30\n",
      "     macro avg       0.85      0.84      0.83        30\n",
      "  weighted avg       0.86      0.83      0.83        30\n",
      "\n"
     ]
    }
   ],
   "source": [
    "# Train Model\n",
    "\n",
    "clf = SVC(kernel='linear')\n",
    "clf.fit(X_train, y_train)\n",
    "\n",
    "y_pred = clf.predict(X_test)\n",
    "print(\"Accuracy:\", accuracy_score(y_test, y_pred))\n",
    "print(\"Classification Report:\\n\", classification_report(y_test, y_pred, target_names=le.classes_))\n"
   ]
  },
  {
   "cell_type": "code",
   "execution_count": 10,
   "id": "67892623",
   "metadata": {},
   "outputs": [],
   "source": [
    "# Dump Model\n",
    "\n",
    "# joblib.dump(clf, 'model_svm.pkl')\n",
    "# joblib.dump(le, 'label_encoder.pkl')\n",
    "# print(\"Model dan LabelEncoder berhasil disimpan.\")\n"
   ]
  },
  {
   "cell_type": "code",
   "execution_count": 11,
   "id": "164511dc",
   "metadata": {},
   "outputs": [],
   "source": [
    "# Load Model\n",
    "\n",
    "# clf = joblib.load('model_svm.pkl')\n",
    "# le = joblib.load('label_encoder.pkl')\n",
    "# print(\"Model dan LabelEncoder berhasil di load.\")"
   ]
  },
  {
   "cell_type": "code",
   "execution_count": 12,
   "id": "14e8beb4",
   "metadata": {},
   "outputs": [
    {
     "name": "stdout",
     "output_type": "stream",
     "text": [
      "Gambar 'test/celana_panjang.jpg' diklasifikasikan sebagai: Celana_Panjang\n"
     ]
    }
   ],
   "source": [
    "# Predict\n",
    "\n",
    "def predict_image(model, label_encoder, image_path, image_size=(128, 128)):\n",
    "    image = cv2.imread(image_path)\n",
    "    image = cv2.resize(image, image_size)\n",
    "    gray = color.rgb2gray(image)\n",
    "\n",
    "    # HOG\n",
    "    hog_feature, _ = hog(\n",
    "        gray,\n",
    "        orientations=9,\n",
    "        pixels_per_cell=(8, 8),\n",
    "        cells_per_block=(2, 2),\n",
    "        block_norm='L2-Hys',\n",
    "        visualize=True\n",
    "    )\n",
    "\n",
    "    # Color Histogram\n",
    "    chans = cv2.split(image)\n",
    "    color_hist = []\n",
    "    for chan in chans:\n",
    "        hist = cv2.calcHist([chan], [0], None, [256], [0, 256])\n",
    "        hist = cv2.normalize(hist, hist).flatten()\n",
    "        color_hist.extend(hist)\n",
    "\n",
    "    # LBP\n",
    "    gray_uint8 = (gray * 255).astype(\"uint8\")\n",
    "    lbp = local_binary_pattern(gray_uint8, P=8, R=1, method='uniform')\n",
    "    lbp_hist, _ = np.histogram(lbp.ravel(), bins=np.arange(0, 10), range=(0, 9))\n",
    "    lbp_hist = lbp_hist.astype(\"float\")\n",
    "    lbp_hist /= (lbp_hist.sum() + 1e-6)\n",
    "    \n",
    "    combined_features = np.concatenate([hog_feature, color_hist, lbp_hist])\n",
    "    combined_features = combined_features.reshape(1, -1)\n",
    "    \n",
    "    prediction = model.predict(combined_features)\n",
    "    predicted_label = label_encoder.inverse_transform(prediction)\n",
    "\n",
    "    print(f\"Gambar '{image_path}' diklasifikasikan sebagai: {predicted_label[0]}\")\n",
    "\n",
    "\n",
    "predict_image(clf,le,'test/celana_panjang.jpg')"
   ]
  }
 ],
 "metadata": {
  "kernelspec": {
   "display_name": "klasifikasi-pakaian (3.13.5)",
   "language": "python",
   "name": "python3"
  },
  "language_info": {
   "codemirror_mode": {
    "name": "ipython",
    "version": 3
   },
   "file_extension": ".py",
   "mimetype": "text/x-python",
   "name": "python",
   "nbconvert_exporter": "python",
   "pygments_lexer": "ipython3",
   "version": "3.13.5"
  }
 },
 "nbformat": 4,
 "nbformat_minor": 5
}
