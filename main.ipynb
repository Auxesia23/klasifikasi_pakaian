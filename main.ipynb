{
 "cells": [
  {
   "cell_type": "code",
   "execution_count": null,
   "id": "031dfd69",
   "metadata": {},
   "outputs": [],
   "source": [
    "#Import\n",
    "\n",
    "import os\n",
    "import cv2\n",
    "\n",
    "from collections import Counter, defaultdict\n",
    "\n",
    "import numpy as np\n",
    "\n",
    "from skimage import color\n",
    "from skimage.feature import hog\n",
    "\n",
    "from skimage.feature import local_binary_pattern\n",
    "from sklearn.model_selection import train_test_split\n",
    "from sklearn.svm import SVC\n",
    "from sklearn.metrics import classification_report, accuracy_score\n",
    "from sklearn.preprocessing import LabelEncoder\n",
    "\n",
    "import joblib\n"
   ]
  },
  {
   "cell_type": "code",
   "execution_count": null,
   "id": "611eec59",
   "metadata": {},
   "outputs": [],
   "source": [
    "# Fungsi Load Images\n",
    "\n",
    "def load_images_and_labels(dataset_path, image_size=(128, 128)):\n",
    "    images = []\n",
    "    labels = []\n",
    "\n",
    "    for label_folder in os.listdir(dataset_path):\n",
    "        label_path = os.path.join(dataset_path, label_folder)\n",
    "\n",
    "        for file_name in os.listdir(label_path):\n",
    "            file_path = os.path.join(label_path, file_name)\n",
    "            image = cv2.imread(file_path)\n",
    "            image = cv2.resize(image, image_size)\n",
    "            images.append(image)\n",
    "            labels.append(label_folder)\n",
    "\n",
    "    return images, labels\n",
    "\n"
   ]
  },
  {
   "cell_type": "code",
   "execution_count": null,
   "id": "a6fa5acf",
   "metadata": {},
   "outputs": [],
   "source": [
    "# FUngsi Ekstraksi fitur HOG\n",
    "\n",
    "def extract_hog_features(images):\n",
    "    features = []\n",
    "\n",
    "    for image in images:\n",
    "        gray = color.rgb2gray(image)\n",
    "        hog_feature, _ = hog(\n",
    "            gray,\n",
    "            orientations=9,\n",
    "            pixels_per_cell=(8, 8),\n",
    "            cells_per_block=(2, 2),\n",
    "            block_norm='L2-Hys',\n",
    "            visualize=True\n",
    "        )\n",
    "        features.append(hog_feature)\n",
    "\n",
    "    return np.array(features)"
   ]
  },
  {
   "cell_type": "code",
   "execution_count": null,
   "id": "14ac9a36",
   "metadata": {},
   "outputs": [],
   "source": [
    "# Fungsi Extraksi Fitur Color Histogram\n",
    "\n",
    "def extract_color_histogram_features(images, bins=256):\n",
    "    features = []\n",
    "\n",
    "    for image in images:\n",
    "        chans = cv2.split(image) \n",
    "        hist_features = []\n",
    "\n",
    "        for chan in chans:\n",
    "            hist = cv2.calcHist([chan], [0], None, [bins], [0, 256])\n",
    "            hist = cv2.normalize(hist, hist).flatten()\n",
    "            hist_features.extend(hist)\n",
    "\n",
    "        features.append(hist_features)\n",
    "\n",
    "    return np.array(features)\n"
   ]
  },
  {
   "cell_type": "code",
   "execution_count": null,
   "id": "8036812c",
   "metadata": {},
   "outputs": [],
   "source": [
    "# Fungsi Ekstraksi fitur Tekstur(LBP)\n",
    "\n",
    "def extract_lbp_features(images):\n",
    "    features = []\n",
    "\n",
    "    for image in images:\n",
    "        gray = color.rgb2gray(image)\n",
    "        gray_uint8 = (gray * 255).astype(\"uint8\")\n",
    "        lbp = local_binary_pattern(gray_uint8, P=8, R=1, method='uniform')\n",
    "\n",
    "        (hist, _) = np.histogram(lbp.ravel(), bins=np.arange(0, 10), range=(0, 9))\n",
    "        hist = hist.astype(\"float\")\n",
    "        hist /= (hist.sum() + 1e-6) \n",
    "\n",
    "        features.append(hist)\n",
    "\n",
    "    return np.array(features)\n"
   ]
  },
  {
   "cell_type": "code",
   "execution_count": null,
   "id": "a36cd80f",
   "metadata": {},
   "outputs": [
    {
     "name": "stdout",
     "output_type": "stream",
     "text": [
      "Jumlah gambar per label:\n",
      "Celana_Panjang: 50\n",
      "Gaun: 50\n",
      "Jaket: 50\n"
     ]
    }
   ],
   "source": [
    "# Load Train Images\n",
    "\n",
    "images, labels = load_images_and_labels(\"gambar/train\")\n",
    "\n",
    "label_counts = Counter(labels)\n",
    "print(\"Jumlah gambar per label:\")\n",
    "for label, count in label_counts.items():\n",
    "    print(f\"{label}: {count}\")"
   ]
  },
  {
   "cell_type": "code",
   "execution_count": null,
   "id": "4f29f42d",
   "metadata": {},
   "outputs": [],
   "source": [
    "# Ekstraksi Fitur Gambar Train\n",
    "\n",
    "hog_features = extract_hog_features(images)\n",
    "color_histogram_features = extract_color_histogram_features(images)\n",
    "lbp_features = extract_lbp_features(images)"
   ]
  },
  {
   "cell_type": "code",
   "execution_count": 13,
   "id": "898fa362",
   "metadata": {},
   "outputs": [],
   "source": [
    "#Encode Label Train\n",
    "le = LabelEncoder()\n",
    "y = le.fit_transform(labels)"
   ]
  },
  {
   "cell_type": "markdown",
   "id": "d162ddee",
   "metadata": {},
   "source": [
    "### HOG + Color"
   ]
  },
  {
   "cell_type": "code",
   "execution_count": 42,
   "id": "adb9472b",
   "metadata": {},
   "outputs": [],
   "source": [
    "# Gabungkan Fitur\n",
    "\n",
    "X1 = np.concatenate([hog_features, color_histogram_features], axis=1)\n",
    "\n",
    "# Split data train/test\n",
    "X1_train, X1_test, y_train, y_test = train_test_split(\n",
    "    X1, y, test_size=0.2, random_state=42)"
   ]
  },
  {
   "cell_type": "code",
   "execution_count": 43,
   "id": "9550b780",
   "metadata": {},
   "outputs": [
    {
     "name": "stdout",
     "output_type": "stream",
     "text": [
      "Accuracy: 0.8333333333333334\n",
      "Classification Report:\n",
      "                 precision    recall  f1-score   support\n",
      "\n",
      "Celana_Panjang       0.83      1.00      0.91        10\n",
      "          Gaun       0.73      0.89      0.80         9\n",
      "         Jaket       1.00      0.64      0.78        11\n",
      "\n",
      "      accuracy                           0.83        30\n",
      "     macro avg       0.85      0.84      0.83        30\n",
      "  weighted avg       0.86      0.83      0.83        30\n",
      "\n"
     ]
    }
   ],
   "source": [
    "# Train Model\n",
    "\n",
    "clf1 = SVC(kernel='linear')\n",
    "clf1.fit(X1_train, y_train)\n",
    "\n",
    "y_pred1 = clf1.predict(X1_test)\n",
    "print(\"Accuracy:\", accuracy_score(y_test, y_pred1))\n",
    "print(\"Classification Report:\\n\", classification_report(y_test, y_pred1, target_names=le.classes_))\n"
   ]
  },
  {
   "cell_type": "markdown",
   "id": "a314b417",
   "metadata": {},
   "source": [
    "### Color + LBP"
   ]
  },
  {
   "cell_type": "code",
   "execution_count": 44,
   "id": "81b2af49",
   "metadata": {},
   "outputs": [],
   "source": [
    "# Gabungkan Fitur\n",
    "\n",
    "X2 = np.concatenate([color_histogram_features, lbp_features], axis=1)\n",
    "\n",
    "# Split data train/test\n",
    "X2_train, X2_test, y_train, y_test = train_test_split(\n",
    "    X2, y, test_size=0.2, random_state=42)"
   ]
  },
  {
   "cell_type": "code",
   "execution_count": 45,
   "id": "897de10c",
   "metadata": {},
   "outputs": [
    {
     "name": "stdout",
     "output_type": "stream",
     "text": [
      "Accuracy: 0.5\n",
      "Classification Report:\n",
      "                 precision    recall  f1-score   support\n",
      "\n",
      "Celana_Panjang       0.36      0.50      0.42        10\n",
      "          Gaun       0.75      0.67      0.71         9\n",
      "         Jaket       0.50      0.36      0.42        11\n",
      "\n",
      "      accuracy                           0.50        30\n",
      "     macro avg       0.54      0.51      0.51        30\n",
      "  weighted avg       0.53      0.50      0.51        30\n",
      "\n"
     ]
    }
   ],
   "source": [
    "# Train Model\n",
    "\n",
    "clf2 = SVC(kernel='linear')\n",
    "clf2.fit(X2_train, y_train)\n",
    "\n",
    "y_pred2 = clf2.predict(X2_test)\n",
    "print(\"Accuracy:\", accuracy_score(y_test, y_pred2))\n",
    "print(\"Classification Report:\\n\", classification_report(y_test, y_pred2, target_names=le.classes_))\n"
   ]
  },
  {
   "cell_type": "markdown",
   "id": "37aa3b7a",
   "metadata": {},
   "source": [
    "### LBP + HOG"
   ]
  },
  {
   "cell_type": "code",
   "execution_count": 46,
   "id": "e99355c1",
   "metadata": {},
   "outputs": [],
   "source": [
    "# Gabungkan Fitur\n",
    "\n",
    "X3 = np.concatenate([hog_features, lbp_features], axis=1)\n",
    "\n",
    "# Split data train/test\n",
    "X3_train, X3_test, y_train, y_test = train_test_split(\n",
    "    X3, y, test_size=0.2, random_state=42)"
   ]
  },
  {
   "cell_type": "code",
   "execution_count": 47,
   "id": "32a1d121",
   "metadata": {},
   "outputs": [
    {
     "name": "stdout",
     "output_type": "stream",
     "text": [
      "Accuracy: 0.8\n",
      "Classification Report:\n",
      "                 precision    recall  f1-score   support\n",
      "\n",
      "Celana_Panjang       0.83      1.00      0.91        10\n",
      "          Gaun       0.70      0.78      0.74         9\n",
      "         Jaket       0.88      0.64      0.74        11\n",
      "\n",
      "      accuracy                           0.80        30\n",
      "     macro avg       0.80      0.80      0.79        30\n",
      "  weighted avg       0.81      0.80      0.79        30\n",
      "\n"
     ]
    }
   ],
   "source": [
    "# Train Model\n",
    "\n",
    "clf3 = SVC(kernel='linear')\n",
    "clf3.fit(X3_train, y_train)\n",
    "\n",
    "y_pred3 = clf3.predict(X3_test)\n",
    "print(\"Accuracy:\", accuracy_score(y_test, y_pred3))\n",
    "print(\"Classification Report:\\n\", classification_report(y_test, y_pred3, target_names=le.classes_))\n"
   ]
  },
  {
   "cell_type": "markdown",
   "id": "252620e2",
   "metadata": {},
   "source": [
    "### HOG + LBP + Color"
   ]
  },
  {
   "cell_type": "code",
   "execution_count": 17,
   "id": "ed950a51",
   "metadata": {},
   "outputs": [],
   "source": [
    "# Gabungkan Fitur\n",
    "X = np.concatenate([hog_features, color_histogram_features, lbp_features], axis=1)\n",
    "\n",
    "# Split data train/test\n",
    "X_train, X_test, y_train, y_test = train_test_split(\n",
    "    X, y, test_size=0.2, random_state=42)"
   ]
  },
  {
   "cell_type": "code",
   "execution_count": 18,
   "id": "ab23514b",
   "metadata": {},
   "outputs": [
    {
     "name": "stdout",
     "output_type": "stream",
     "text": [
      "Accuracy: 0.8333333333333334\n",
      "Classification Report:\n",
      "                 precision    recall  f1-score   support\n",
      "\n",
      "Celana_Panjang       0.83      1.00      0.91        10\n",
      "          Gaun       0.73      0.89      0.80         9\n",
      "         Jaket       1.00      0.64      0.78        11\n",
      "\n",
      "      accuracy                           0.83        30\n",
      "     macro avg       0.85      0.84      0.83        30\n",
      "  weighted avg       0.86      0.83      0.83        30\n",
      "\n"
     ]
    }
   ],
   "source": [
    "# Train Model\n",
    "\n",
    "clf = SVC(kernel='linear')\n",
    "clf.fit(X_train, y_train)\n",
    "\n",
    "y_pred = clf.predict(X_test)\n",
    "print(\"Accuracy:\", accuracy_score(y_test, y_pred))\n",
    "print(\"Classification Report:\\n\", classification_report(y_test, y_pred, target_names=le.classes_))\n"
   ]
  },
  {
   "cell_type": "markdown",
   "id": "c0003afe",
   "metadata": {},
   "source": [
    "### Save dan Load Model"
   ]
  },
  {
   "cell_type": "code",
   "execution_count": 50,
   "id": "67892623",
   "metadata": {},
   "outputs": [],
   "source": [
    "# Dump Model\n",
    "\n",
    "# joblib.dump(clf, 'model_svm.pkl')\n",
    "# joblib.dump(le, 'label_encoder.pkl')\n",
    "# print(\"Model dan LabelEncoder berhasil disimpan.\")\n"
   ]
  },
  {
   "cell_type": "code",
   "execution_count": 51,
   "id": "164511dc",
   "metadata": {},
   "outputs": [],
   "source": [
    "# Load Model\n",
    "\n",
    "# clf = joblib.load('model_svm.pkl')\n",
    "# le = joblib.load('label_encoder.pkl')\n",
    "# print(\"Model dan LabelEncoder berhasil di load.\")"
   ]
  },
  {
   "cell_type": "markdown",
   "id": "bdd583a6",
   "metadata": {},
   "source": [
    "### Test"
   ]
  },
  {
   "cell_type": "code",
   "execution_count": 10,
   "id": "84d658bf",
   "metadata": {},
   "outputs": [
    {
     "name": "stdout",
     "output_type": "stream",
     "text": [
      "Jumlah gambar per label:\n",
      "Celana_Panjang: 20\n",
      "Gaun: 20\n",
      "Jaket: 20\n"
     ]
    }
   ],
   "source": [
    "# Load Test Images\n",
    "\n",
    "test_images, test_labels = load_images_and_labels(\"gambar/test\")\n",
    "\n",
    "test_label_counts = Counter(test_labels)\n",
    "print(\"Jumlah gambar per label:\")\n",
    "for label, count in test_label_counts.items():\n",
    "    print(f\"{label}: {count}\")"
   ]
  },
  {
   "cell_type": "code",
   "execution_count": 11,
   "id": "2fa26303",
   "metadata": {},
   "outputs": [],
   "source": [
    "# Ekstraksi Fitur Gambar Test\n",
    "\n",
    "test_hog_features = extract_hog_features(test_images)\n",
    "test_color_features = extract_color_histogram_features(test_images)\n",
    "test_lbp_features = extract_lbp_features(test_images)"
   ]
  },
  {
   "cell_type": "code",
   "execution_count": 24,
   "id": "116a33bf",
   "metadata": {},
   "outputs": [],
   "source": [
    "# Gabungkan Fitur data Test Sesuai Model yang dipakai\n",
    "X_test_all = np.concatenate([test_hog_features, test_color_features, test_lbp_features], axis=1)\n",
    "\n",
    "# Encode label test\n",
    "y_test_all = le.transform(test_labels)\n",
    "\n",
    "# Prediksi semua gambar test\n",
    "y_pred_all = clf.predict(X_test_all)"
   ]
  },
  {
   "cell_type": "code",
   "execution_count": 25,
   "id": "7d40f65b",
   "metadata": {},
   "outputs": [
    {
     "name": "stdout",
     "output_type": "stream",
     "text": [
      "Akurasi pada data test: 0.6666666666666666\n",
      "Jumlah prediksi benar per kelas:\n",
      "Celana_Panjang: 14 dari 20\n",
      "Gaun: 10 dari 20\n",
      "Jaket: 16 dari 20\n"
     ]
    }
   ],
   "source": [
    "# Evaluasi hasil prediksi\n",
    "correct_per_class = defaultdict(int)\n",
    "total_per_class = defaultdict(int)\n",
    "\n",
    "for true, pred, label in zip(y_test_all, y_pred_all, test_labels):\n",
    "    total_per_class[label] += 1\n",
    "    if true == pred:\n",
    "        correct_per_class[label] += 1\n",
    "\n",
    "\n",
    "print(\"Akurasi pada data test:\", accuracy_score(y_test_all, y_pred_all))\n",
    "print(\"Jumlah prediksi benar per kelas:\")\n",
    "for label in le.classes_:\n",
    "    print(f\"{label}: {correct_per_class[label]} dari {total_per_class[label]}\")"
   ]
  }
 ],
 "metadata": {
  "kernelspec": {
   "display_name": "klasifikasi-pakaian (3.13.5)",
   "language": "python",
   "name": "python3"
  },
  "language_info": {
   "codemirror_mode": {
    "name": "ipython",
    "version": 3
   },
   "file_extension": ".py",
   "mimetype": "text/x-python",
   "name": "python",
   "nbconvert_exporter": "python",
   "pygments_lexer": "ipython3",
   "version": "3.13.5"
  }
 },
 "nbformat": 4,
 "nbformat_minor": 5
}
